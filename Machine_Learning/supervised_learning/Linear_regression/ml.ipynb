{
 "cells": [
  {
   "cell_type": "markdown",
   "id": "4f7a0cb1",
   "metadata": {},
   "source": [
    "# Linear Regression"
   ]
  },
  {
   "cell_type": "code",
   "execution_count": 1,
   "id": "d83431d8",
   "metadata": {},
   "outputs": [],
   "source": [
    "# lingresion--> is a supervised learning algorithm used for predicting a continuous target variable based#\n",
    "#  on one or more input features. It assumes a linear relationship between the input features and the target variable, allowing it to model and predict outcomes effectively.\n",
    "# It is commonly used in various fields such as finance, economics, and social sciences for tasks #\n",
    "# like predicting sales, prices, or any other continuous variable based on historical data.\n",
    "# Linear regression can be implemented using libraries like scikit-learn in Python, which provides a simple and efficient way to perform linear regression analysis."
   ]
  },
  {
   "cell_type": "markdown",
   "id": "703343db",
   "metadata": {},
   "source": [
    "# Machine Learning"
   ]
  },
  {
   "cell_type": "code",
   "execution_count": 2,
   "id": "a5b663f7",
   "metadata": {},
   "outputs": [],
   "source": [
    "# Linear regression --> relation between input features and target variable , dependent variable and # independent variable\n",
    "# # it tell best fit line for the data points\n",
    " "
   ]
  },
  {
   "cell_type": "markdown",
   "id": "69905fec",
   "metadata": {},
   "source": [
    "# Best_fit_line"
   ]
  },
  {
   "cell_type": "code",
   "execution_count": 3,
   "id": "52e5d788",
   "metadata": {},
   "outputs": [],
   "source": [
    "# it will cover all most data point and lie alsong the line\n",
    "# simple linear regression --> one input feature and one target variable\n",
    "# multiple linear regression --> multiple input features and one target variable\n",
    "# SLR --> y = mx + c\n",
    "# MLR --> y = b0 + b1*x1 + b2*x2 + ... + bn*xn + error\n",
    "\n"
   ]
  },
  {
   "cell_type": "code",
   "execution_count": 4,
   "id": "a24cf5b2",
   "metadata": {},
   "outputs": [],
   "source": [
    "# Best fit line --> M & C -->optimal values of slope and intercept\n",
    "# MSE --> Mean Squared Error\n",
    "# MAE --> Mean Absolute Error\n",
    "# \n",
    "# Model Evaluation --> R2 Score, Adjusted R2 Score ,RMSE\n",
    "# cost function --> cost function is used to find the optimal values of M and C and minimize the error or loss\n",
    "# cost function --> MSE or MAE\n",
    "# loss function --> loss function is used to find the optimal values of M and C and minimize the error or loss\n",
    "# mse--> not deal with outliers and it is use to find the optimal values of M and C\n",
    "# mae --> deal with outliers\n",
    "# rsquared --> R2 score is used to find the goodness of fit of the model it means how well the model fits the data,\n",
    "# # formula is --> 1 - (SS_res / SS_tot)\n",
    "# where SS_res is the sum of squares of residuals and SS_tot is the total sum of squares\n",
    "# R2 score --> 1 means perfect fit and 0 means no fit      #\n",
    "#      formula is --> 1 - (SS_res / SS_tot)\n",
    "# adjusted rsquared --> adjusted R2 score is used to find the goodness of fit of the model and it is adjusted for the number of input features ,\n",
    "# #formula is --> 1 - (1-R2)*(n-1)/(n-p-1)\n"
   ]
  }
 ],
 "metadata": {
  "kernelspec": {
   "display_name": "Python 3",
   "language": "python",
   "name": "python3"
  },
  "language_info": {
   "codemirror_mode": {
    "name": "ipython",
    "version": 3
   },
   "file_extension": ".py",
   "mimetype": "text/x-python",
   "name": "python",
   "nbconvert_exporter": "python",
   "pygments_lexer": "ipython3",
   "version": "3.13.5"
  }
 },
 "nbformat": 4,
 "nbformat_minor": 5
}
