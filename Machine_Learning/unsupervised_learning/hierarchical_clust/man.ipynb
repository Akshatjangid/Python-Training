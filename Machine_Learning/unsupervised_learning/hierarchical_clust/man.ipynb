{
 "cells": [
  {
   "cell_type": "markdown",
   "id": "ed858600",
   "metadata": {},
   "source": [
    "## Hierarchical clustering"
   ]
  },
  {
   "cell_type": "markdown",
   "id": "1c6879c5",
   "metadata": {},
   "source": [
    "<img src=\"HC.jpg\" height=400 >"
   ]
  },
  {
   "cell_type": "markdown",
   "id": "147a60c8",
   "metadata": {},
   "source": [
    "## Aglomerative"
   ]
  },
  {
   "cell_type": "markdown",
   "id": "45320ccb",
   "metadata": {},
   "source": [
    "### start each data --> as its own cluster and the closest cluster \n",
    "### step by step until all points below to a single cluster"
   ]
  },
  {
   "cell_type": "markdown",
   "id": "eb1c38f5",
   "metadata": {},
   "source": [
    "# steps.."
   ]
  },
  {
   "cell_type": "markdown",
   "id": "e40aecb7",
   "metadata": {},
   "source": [
    "## 1. start with a cluster (is point is a cluster)\n",
    "## 2. complete a pair wise distance  e.g. (AB,AC,BC)\n",
    "## 3. merge the closest two cluster based on a linkage methods\n",
    "## 4. update the distance matrix\n",
    "## 5. repeat 2-4  until your single cluster is formed"
   ]
  },
  {
   "cell_type": "markdown",
   "id": "153e9327",
   "metadata": {},
   "source": [
    "# linkage criteria (distance b/w clusters)"
   ]
  },
  {
   "cell_type": "markdown",
   "id": "2f0f2cc1",
   "metadata": {},
   "source": [
    "<img src=\"hc1.jpg\" height=400>"
   ]
  },
  {
   "cell_type": "markdown",
   "id": "aaa92cde",
   "metadata": {},
   "source": [
    "<img src=\"hc2.jpg\" height=400>"
   ]
  },
  {
   "cell_type": "markdown",
   "id": "876faeff",
   "metadata": {},
   "source": [
    "### U1 U2 = distance between centroid"
   ]
  },
  {
   "cell_type": "code",
   "execution_count": 5,
   "id": "0c03ef4e",
   "metadata": {},
   "outputs": [],
   "source": [
    "import numpy as np\n",
    "import pandas as pd\n",
    "import matplotlib.pyplot as plt\n",
    "import seaborn as sns\n",
    "from sklearn.cluster import AgglomerativeClustering\n",
    "from scipy.cluster.hierarchy import dendrogram, linkage\n",
    "from sklearn.datasets import make_blobs"
   ]
  },
  {
   "cell_type": "code",
   "execution_count": 6,
   "id": "734ebd50",
   "metadata": {},
   "outputs": [],
   "source": [
    "# create synthesis data\n",
    "x,_=make_blobs(n_samples=100, centers=3, cluster_std=1.0)\n",
    "\n"
   ]
  },
  {
   "cell_type": "code",
   "execution_count": 7,
   "id": "2b66be10",
   "metadata": {},
   "outputs": [],
   "source": [
    "model = AgglomerativeClustering(n_clusters=3,linkage='ward')\n",
    "labels = model.fit_predict(x)"
   ]
  },
  {
   "cell_type": "code",
   "execution_count": 16,
   "id": "42e064ac",
   "metadata": {},
   "outputs": [
    {
     "data": {
      "image/png": "[encoded data removed]",
      "text/plain": [
       "<Figure size 1000x700 with 1 Axes>"
      ]
     },
     "metadata": {},
     "output_type": "display_data"
    }
   ],
   "source": [
    "## dendogram \n",
    "linked = linkage(x,method=\"ward\")\n",
    "plt.figure(figsize=(10, 7))\n",
    "dendrogram(linked)\n",
    "plt.xticks(rotation=90)\n",
    "plt.show()\n"
   ]
  },
  {
   "cell_type": "markdown",
   "id": "1ec18191",
   "metadata": {},
   "source": [
    "# DC"
   ]
  },
  {
   "cell_type": "markdown",
   "id": "f2f14830",
   "metadata": {},
   "source": [
    "<img src=\"hc3.jpg\" height=400>"
   ]
  },
  {
   "cell_type": "code",
   "execution_count": null,
   "id": "d950f9c3",
   "metadata": {},
   "outputs": [],
   "source": []
  }
 ],
 "metadata": {
  "kernelspec": {
   "display_name": "Python 3",
   "language": "python",
   "name": "python3"
  },
  "language_info": {
   "codemirror_mode": {
    "name": "ipython",
    "version": 3
   },
   "file_extension": ".py",
   "mimetype": "text/x-python",
   "name": "python",
   "nbconvert_exporter": "python",
   "pygments_lexer": "ipython3",
   "version": "3.11.9"
  }
 },
 "nbformat": 4,
 "nbformat_minor": 5
}
