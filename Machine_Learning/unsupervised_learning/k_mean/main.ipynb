{
 "cells": [
  {
   "cell_type": "markdown",
   "id": "7cf8932b",
   "metadata": {},
   "source": [
    "# K-mean"
   ]
  },
  {
   "cell_type": "markdown",
   "id": "72b9bd1a",
   "metadata": {},
   "source": [
    "📌 Key Concepts:\n",
    "\n",
    "K: Number of clusters you want to divide the data into.\n",
    "\n",
    "Centroid: The center point of a cluster.\n",
    "\n",
    "Distance: Data points are assigned to the nearest centroid (usually using Euclidean distance).\n",
    "\n",
    "🧠 How K-Means Works:\n",
    "\n",
    "Choose the number of clusters (K).\n",
    "\n",
    "Initialize K centroids randomly.\n",
    "\n",
    "Assign each data point to the nearest centroid via calculate the distance between each point and centroid. via  eucilidian distance= sqrt((x1-x2)^2 + (y1-y2)^2)\n",
    "\n",
    "Recalculate the centroids by taking the mean of all points in each cluster. via  (x1+x2)/2 , (y1+y2)/2\n",
    "\n",
    "Repeat steps 3-4 until centroids no longer change (convergence).### inter cluster --> ek cluster ke dat point ke centroid se dusre cluster ke data point tak ke distace inter cluster hai\n",
    "### intra cluster --> it is a distance between data points in the same cluster"
   ]
  },
  {
   "cell_type": "markdown",
   "id": "4b604383",
   "metadata": {},
   "source": [
    "k mean clustering : Evaluation Metrics\n",
    "🔹 Intracluster Distance: Definition: The distance between data points within the same cluster.\n",
    "\n",
    "Goal: Should be low (points in the same cluster should be close to each other).\n",
    "\n",
    "Indicates: Compactness of the cluster.\n",
    "\n",
    "✅ Lower intracluster distance = Better cluster tightness\n",
    "\n",
    "🔸 Intercluster Distance: Definition: The distance between the centroids of different clusters.\n",
    "\n",
    "Goal: Should be high (clusters should be well-separated from each other).\n",
    "\n",
    "Indicates: Separation between clusters.\n",
    "\n",
    "✅ Higher intercluster distance = Better cluster separation\n",
    "\n",
    "Optimal way to find no of centroids( no. of k)\n",
    "---> Algo method: it is based on wcss(within cluster sum of square)"
   ]
  },
  {
   "cell_type": "markdown",
   "id": "b628bdee",
   "metadata": {},
   "source": [
    "##### optimal way to find k = no. of contained \n",
    "##### 1. Elbow method \n",
    "##### this methos bases on wcss\n",
    "##### wcss --< wihin cluster sum of squares   \n",
    "##### it will evaluate how well have clustering algo as grouped the data point \n"
   ]
  },
  {
   "cell_type": "markdown",
   "id": "d1d043f6",
   "metadata": {},
   "source": [
    "<img src= \"photo.jpg\">"
   ]
  },
  {
   "cell_type": "markdown",
   "id": "e6bbe57c",
   "metadata": {},
   "source": [
    "<img src=\"Screenshot.png\">"
   ]
  },
  {
   "cell_type": "markdown",
   "id": "a552e2e3",
   "metadata": {},
   "source": [
    "<img src=\"images.png\">"
   ]
  },
  {
   "cell_type": "markdown",
   "id": "59ea219c",
   "metadata": {},
   "source": []
  }
 ],
 "metadata": {
  "kernelspec": {
   "display_name": "Python 3",
   "language": "python",
   "name": "python3"
  },
  "language_info": {
   "codemirror_mode": {
    "name": "ipython",
    "version": 3
   },
   "file_extension": ".py",
   "mimetype": "text/x-python",
   "name": "python",
   "nbconvert_exporter": "python",
   "pygments_lexer": "ipython3",
   "version": "3.11.9"
  }
 },
 "nbformat": 4,
 "nbformat_minor": 5
}
