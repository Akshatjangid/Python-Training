{
 "cells": [
  {
   "cell_type": "markdown",
   "id": "28a5e031",
   "metadata": {
    "vscode": {
     "languageId": "plaintext"
    }
   },
   "source": [
    "# MET"
   ]
  },
  {
   "cell_type": "markdown",
   "id": "849dc049",
   "metadata": {},
   "source": [
    "#### done index --> shoul be high [ 0 - oo ]\n",
    "#### inertia (wcss )"
   ]
  },
  {
   "cell_type": "markdown",
   "id": "4b96b1a1",
   "metadata": {},
   "source": []
  }
 ],
 "metadata": {
  "language_info": {
   "name": "python"
  }
 },
 "nbformat": 4,
 "nbformat_minor": 5
}
