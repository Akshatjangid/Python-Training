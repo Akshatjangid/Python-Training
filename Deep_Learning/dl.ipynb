{
 "cells": [
  {
   "cell_type": "markdown",
   "id": "ccc0fb89",
   "metadata": {},
   "source": [
    "# Deep Learning"
   ]
  },
  {
   "cell_type": "markdown",
   "id": "433a7f61",
   "metadata": {},
   "source": [
    "### Human behaviour mimic\n",
    "### Complex Problem Solve \n",
    "### ML Drawback  --> it will not handel 3d , 4d dat so DL is handle all tyoes of daia include 2d "
   ]
  },
  {
   "cell_type": "markdown",
   "id": "1760d080",
   "metadata": {},
   "source": [
    "## Types of Deep Learning"
   ]
  },
  {
   "cell_type": "markdown",
   "id": "05d4aa54",
   "metadata": {},
   "source": [
    "####  --> ANN (Artificial Neural Network)  --  Human Brain   --> Regression & Clasification\n",
    "#### --> CNN  (Convolutional Neural Network)  -- Eye --> image & Video\n",
    "####  --> RNN (Recurrent Neural Network)  --> Speech --> Text"
   ]
  },
  {
   "cell_type": "markdown",
   "id": "2260b700",
   "metadata": {},
   "source": [
    "<img src=\"img1.jpg\" height=400>"
   ]
  },
  {
   "cell_type": "markdown",
   "id": "b3b71b1b",
   "metadata": {},
   "source": [
    "# ANN\n",
    "\n",
    "<img src =\"img2.jpg\" height=400>"
   ]
  },
  {
   "cell_type": "markdown",
   "id": "389629a4",
   "metadata": {},
   "source": [
    "# Input Layer --> int this we take independentent varible of dataset like x axis data"
   ]
  },
  {
   "cell_type": "markdown",
   "id": "5f3474fb",
   "metadata": {},
   "source": [
    "# Hidden Layer --> in this we take node by our choice for better traning data"
   ]
  },
  {
   "cell_type": "markdown",
   "id": "9d1c2124",
   "metadata": {},
   "source": [
    "# Output Layer --> no.. of node are defined by binary classification or multiclass classification"
   ]
  },
  {
   "cell_type": "markdown",
   "id": "91ea9371",
   "metadata": {},
   "source": [
    "# Perceptron --> Smallest unit of Neural Network"
   ]
  },
  {
   "cell_type": "markdown",
   "id": "221e7c1e",
   "metadata": {},
   "source": [
    "<img  src =\"img.webp\" height=400> "
   ]
  },
  {
   "cell_type": "markdown",
   "id": "bbf3ad10",
   "metadata": {},
   "source": [
    "### Activation fxn --> non linear data ko add karke specific range ka andar late hai\n",
    "### X--> input \n",
    "### W--> weight of (x)\n",
    "### W --> is a trainable parameter\n"
   ]
  },
  {
   "cell_type": "markdown",
   "id": "538f0e03",
   "metadata": {},
   "source": [
    "## Activation function in ML and DL are\n",
    "\n",
    "#### Sigmoid --> Output Layer --> Binary class --> PRobability --> 0/1 \n",
    "####  Tanh --> Hidden Layer --> -1 to 1\n",
    "####  Relu --> Most commonly used -->  HL \n",
    "####  Leaky Relu -->  HL\n",
    "####  Parametric Relu -->  HL\n",
    "####  Exponential Relu -->  HL\n",
    "####  Softmax --> O/P layer --> Multiclass Classification\n",
    "####  Linear--> Reg task f(x) = x"
   ]
  },
  {
   "cell_type": "markdown",
   "id": "4fbe8daf",
   "metadata": {},
   "source": [
    "# Epoch --> it is a complete cycle in this model were one forward propogation and one time backward propogation "
   ]
  },
  {
   "cell_type": "markdown",
   "id": "d2e9a531",
   "metadata": {},
   "source": [
    "# LOSS = Actual - Prediction --> Residual"
   ]
  },
  {
   "cell_type": "markdown",
   "id": "dac411cd",
   "metadata": {},
   "source": [
    "# OH--> one hot encoding\n",
    "# LE--> label encoding\n",
    "<img src=\"img3.jpg\" height=400>\n"
   ]
  },
  {
   "cell_type": "markdown",
   "id": "1cc14975",
   "metadata": {},
   "source": [
    "# For correcting loss we have optimizers"
   ]
  },
  {
   "cell_type": "markdown",
   "id": "d94298b2",
   "metadata": {},
   "source": [
    "# What is vanishing gradient Problem ?\n",
    "# Dead Neurons"
   ]
  },
  {
   "cell_type": "markdown",
   "id": "4de5bb68",
   "metadata": {},
   "source": [
    "# Cost Function --> when we use in whole record\n",
    "# Loss Function --> when we use in particual or single record"
   ]
  },
  {
   "cell_type": "markdown",
   "id": "2873e7c3",
   "metadata": {},
   "source": [
    "# Optimizer in BackPropogation\n",
    "<img src=\"img4.jpg\" height=400>"
   ]
  },
  {
   "cell_type": "markdown",
   "id": "f585b767",
   "metadata": {},
   "source": []
  }
 ],
 "metadata": {
  "kernelspec": {
   "display_name": "Python 3",
   "language": "python",
   "name": "python3"
  },
  "language_info": {
   "codemirror_mode": {
    "name": "ipython",
    "version": 3
   },
   "file_extension": ".py",
   "mimetype": "text/x-python",
   "name": "python",
   "nbconvert_exporter": "python",
   "pygments_lexer": "ipython3",
   "version": "3.11.9"
  }
 },
 "nbformat": 4,
 "nbformat_minor": 5
}
