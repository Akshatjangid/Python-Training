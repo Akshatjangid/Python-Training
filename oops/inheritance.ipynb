{
 "cells": [
  {
   "cell_type": "code",
   "execution_count": null,
   "id": "bb84b1f0",
   "metadata": {},
   "outputs": [],
   "source": []
  },
  {
   "cell_type": "code",
   "execution_count": 13,
   "id": "77ea6b56",
   "metadata": {},
   "outputs": [
    {
     "name": "stdout",
     "output_type": "stream",
     "text": [
      "car\n",
      "bike\n"
     ]
    }
   ],
   "source": [
    "## inheritance --> \n",
    "##single inheritance\n",
    "class car:\n",
    "    def display(self):\n",
    "        return \"car\"\n",
    "class bike(car):\n",
    "    def show(self):\n",
    "        return \"bike\"\n",
    "\n",
    "obj=bike()\n",
    "print(obj.display())\n",
    "print(obj.show())"
   ]
  },
  {
   "cell_type": "code",
   "execution_count": 22,
   "id": "d53c1af9",
   "metadata": {},
   "outputs": [
    {
     "data": {
      "text/plain": [
       "'Akshat'"
      ]
     },
     "execution_count": 22,
     "metadata": {},
     "output_type": "execute_result"
    }
   ],
   "source": [
    "class person:\n",
    "    def __init__(self,name):\n",
    "        self.name=name\n",
    "    def show(self):\n",
    "        return self.name\n",
    "class employee(person):\n",
    "    def __init__(self,name,salary):\n",
    "        super().__init__(name)           #---> it is use for use parrent class data in child class\n",
    "        self.salary=salary\n",
    "    def sal(self):\n",
    "        return self.salary\n",
    "    \n",
    "obj=employee(\"Akshat\",200000)\n",
    "obj.show()\n",
    "# obj.sal()\n",
    "\n"
   ]
  },
  {
   "cell_type": "code",
   "execution_count": null,
   "id": "2563a7cb",
   "metadata": {},
   "outputs": [
    {
     "data": {
      "text/plain": [
       "'Akshat'"
      ]
     },
     "execution_count": 23,
     "metadata": {},
     "output_type": "execute_result"
    }
   ],
   "source": [
    "## Multiple Inheritance\n",
    "#         .\n",
    "#         .\n",
    "#        \\/\n",
    "\n",
    "\n",
    "class person:\n",
    "    def __init__(self,name):\n",
    "        self.name=name\n",
    "    def show(self):\n",
    "        return self.name\n",
    "class employee(person):\n",
    "    def __init__(self,name,salary):\n",
    "        super().__init__(name)           #---> it is use for use parrent class data in child class\n",
    "        self.salary=salary\n",
    "class job:\n",
    "    def __init__(self,domain):\n",
    "        self.domain=domain\n",
    "\n",
    "class employeepersonjob(employee,job):\n",
    "    def __init__(self, name, salary):           \n",
    "        employee.__init__(name, salary)       #--> this is use for multiple inheritance\n",
    "        job.__init__(domain)\n",
    "\n",
    "obj=employee(\"Akshat\",200000,\"Data science\")\n",
    "obj.show()\n"
   ]
  },
  {
   "cell_type": "code",
   "execution_count": null,
   "id": "4d19454e",
   "metadata": {},
   "outputs": [],
   "source": []
  }
 ],
 "metadata": {
  "kernelspec": {
   "display_name": "Python 3",
   "language": "python",
   "name": "python3"
  },
  "language_info": {
   "codemirror_mode": {
    "name": "ipython",
    "version": 3
   },
   "file_extension": ".py",
   "mimetype": "text/x-python",
   "name": "python",
   "nbconvert_exporter": "python",
   "pygments_lexer": "ipython3",
   "version": "3.11.9"
  }
 },
 "nbformat": 4,
 "nbformat_minor": 5
}
