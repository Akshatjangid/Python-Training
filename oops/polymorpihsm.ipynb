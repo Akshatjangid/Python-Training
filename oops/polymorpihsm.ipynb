{
 "cells": [
  {
   "cell_type": "code",
   "execution_count": 5,
   "id": "133574de",
   "metadata": {},
   "outputs": [
    {
     "data": {
      "text/plain": [
       "'Bark'"
      ]
     },
     "execution_count": 5,
     "metadata": {},
     "output_type": "execute_result"
    }
   ],
   "source": [
    "#Polymorphism --> many forms-->the same function and methods behave diffrently based on the input\n",
    "\n",
    "class cat:\n",
    "    def sound(self):\n",
    "        return \"Meow\"\n",
    "class dog:\n",
    "    def sound(self):\n",
    "        return \"Bark\"\n",
    "\n",
    "# obj1=cat()\n",
    "# obj1.sound()\n",
    "obj2=dog()\n",
    "obj2.sound()"
   ]
  },
  {
   "cell_type": "code",
   "execution_count": 7,
   "id": "68d59d3d",
   "metadata": {},
   "outputs": [
    {
     "name": "stdout",
     "output_type": "stream",
     "text": [
      "Meow\n",
      "Bark\n"
     ]
    }
   ],
   "source": [
    "class cat:\n",
    "    def sound(self):\n",
    "        return \"Meow\"\n",
    "class dog:\n",
    "    def sound(self):\n",
    "        return \"Bark\"\n",
    "def make_sound(animal):\n",
    "    return animal.sound()         # it is use for functionaslity because in this we make it for all purpose in this we have not to define both of.\n",
    "\n",
    "cat=cat()\n",
    "dog=dog()\n",
    "\n",
    "print(make_sound(cat))\n",
    "print(make_sound(dog))"
   ]
  },
  {
   "cell_type": "code",
   "execution_count": 11,
   "id": "3746f5ef",
   "metadata": {},
   "outputs": [
    {
     "name": "stdout",
     "output_type": "stream",
     "text": [
      "100.0\n",
      "200\n"
     ]
    }
   ],
   "source": [
    "# find the area of shapes\n",
    "class triangle:\n",
    "    def area(self):\n",
    "        a=10\n",
    "        b=20\n",
    "        c=((1/2)*a*b)\n",
    "        return c\n",
    "class square:\n",
    "    def area(self):\n",
    "        a=10\n",
    "        b=20\n",
    "        c=a*b\n",
    "        return c\n",
    "def Area(shapes):\n",
    "    return shapes.area()\n",
    "\n",
    "triangle=triangle()\n",
    "square=square()\n",
    "print(Area(triangle))\n",
    "print(Area(square))"
   ]
  },
  {
   "cell_type": "code",
   "execution_count": 20,
   "id": "8160f0dd",
   "metadata": {},
   "outputs": [
    {
     "ename": "AttributeError",
     "evalue": "'rectangle' object has no attribute 'length'",
     "output_type": "error",
     "traceback": [
      "\u001b[31m---------------------------------------------------------------------------\u001b[39m",
      "\u001b[31mAttributeError\u001b[39m                            Traceback (most recent call last)",
      "\u001b[36mCell\u001b[39m\u001b[36m \u001b[39m\u001b[32mIn[20]\u001b[39m\u001b[32m, line 20\u001b[39m\n\u001b[32m     18\u001b[39m rectangle=rectangle(\u001b[32m5\u001b[39m,\u001b[32m10\u001b[39m)\n\u001b[32m     19\u001b[39m circle=circle(\u001b[32m5\u001b[39m)\n\u001b[32m---> \u001b[39m\u001b[32m20\u001b[39m \u001b[38;5;28mprint\u001b[39m(\u001b[43mArea\u001b[49m\u001b[43m(\u001b[49m\u001b[43mrectangle\u001b[49m\u001b[43m)\u001b[49m)\n\u001b[32m     21\u001b[39m \u001b[38;5;28mprint\u001b[39m(Area(circle))\n",
      "\u001b[36mCell\u001b[39m\u001b[36m \u001b[39m\u001b[32mIn[19]\u001b[39m\u001b[32m, line 16\u001b[39m, in \u001b[36mArea\u001b[39m\u001b[34m(shape)\u001b[39m\n\u001b[32m     15\u001b[39m \u001b[38;5;28;01mdef\u001b[39;00m\u001b[38;5;250m \u001b[39m\u001b[34mArea\u001b[39m(shape):\n\u001b[32m---> \u001b[39m\u001b[32m16\u001b[39m     \u001b[38;5;28;01mreturn\u001b[39;00m \u001b[43mshape\u001b[49m\u001b[43m.\u001b[49m\u001b[43marea\u001b[49m\u001b[43m(\u001b[49m\u001b[43m)\u001b[49m\n",
      "\u001b[36mCell\u001b[39m\u001b[36m \u001b[39m\u001b[32mIn[20]\u001b[39m\u001b[32m, line 9\u001b[39m, in \u001b[36mrectangle.area\u001b[39m\u001b[34m(self)\u001b[39m\n\u001b[32m      8\u001b[39m \u001b[38;5;28;01mdef\u001b[39;00m\u001b[38;5;250m \u001b[39m\u001b[34marea\u001b[39m(\u001b[38;5;28mself\u001b[39m):\n\u001b[32m----> \u001b[39m\u001b[32m9\u001b[39m     \u001b[38;5;28;01mreturn\u001b[39;00m \u001b[38;5;28;43mself\u001b[39;49m\u001b[43m.\u001b[49m\u001b[43mlength\u001b[49m*\u001b[38;5;28mself\u001b[39m.breadth\n",
      "\u001b[31mAttributeError\u001b[39m: 'rectangle' object has no attribute 'length'"
     ]
    }
   ],
   "source": [
    "class shape_area:\n",
    "    def area(self):\n",
    "        pass\n",
    "class rectangle(shape_area):\n",
    "    def __init__ (self,length,breadth):\n",
    "        self.lenght=length\n",
    "        self.breadth=breadth\n",
    "    def area(self):\n",
    "        return self.length*self.breadth\n",
    "class circle(shape_area):\n",
    "    def __init__(self,radius):\n",
    "        self.radius=radius\n",
    "    def area(self):\n",
    "        return 3.14*self.radius*self.radius\n",
    "def shape_area(shape):\n",
    "    return shape.area()\n",
    "\n",
    "rectangle=rectangle(5,10)\n",
    "circle=circle(5)\n",
    "print(Area(rectangle))\n",
    "print(Area(circle))"
   ]
  },
  {
   "cell_type": "code",
   "execution_count": null,
   "id": "898f0447",
   "metadata": {},
   "outputs": [],
   "source": []
  }
 ],
 "metadata": {
  "kernelspec": {
   "display_name": "Python 3",
   "language": "python",
   "name": "python3"
  },
  "language_info": {
   "codemirror_mode": {
    "name": "ipython",
    "version": 3
   },
   "file_extension": ".py",
   "mimetype": "text/x-python",
   "name": "python",
   "nbconvert_exporter": "python",
   "pygments_lexer": "ipython3",
   "version": "3.11.9"
  }
 },
 "nbformat": 4,
 "nbformat_minor": 5
}
