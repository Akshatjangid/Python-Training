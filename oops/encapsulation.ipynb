{
 "cells": [
  {
   "cell_type": "markdown",
   "id": "7d86cb0e",
   "metadata": {},
   "source": [
    "z"
   ]
  },
  {
   "cell_type": "code",
   "execution_count": 1,
   "id": "5c356e93",
   "metadata": {},
   "outputs": [],
   "source": [
    "# encapsulation\n",
    "#it means hiding the internal details of a class and exposing only what is necessary\n",
    "#protecting the data from being accessed directly\n",
    "#outside the class or world\n",
    "#private variable --> __name\n",
    "#cannot be accesible outside the class"
   ]
  },
  {
   "cell_type": "code",
   "execution_count": 2,
   "id": "e955338c",
   "metadata": {},
   "outputs": [
    {
     "name": "stdout",
     "output_type": "stream",
     "text": [
      "Akshat\n",
      "85\n"
     ]
    }
   ],
   "source": [
    "class student:\n",
    "    def __init__(self,name, marks):\n",
    "        self.name = name\n",
    "        self.__marks = marks\n",
    "    def get_marks(self):\n",
    "        return self.__marks     \n",
    "    \n",
    "    def set_marks(self, marks):\n",
    "        if 0<= marks <= 100:\n",
    "            self.__marks = marks\n",
    "        else:\n",
    "            print(\"Invalid marks\")\n",
    "\n",
    "s = student(\"Akshat\", 85)\n",
    "print(s.name)  # Accessible\n",
    "print(s.get_marks())  # Accessible through getter method\n",
    "# print(s.__marks)  # Not accessible directly, will raise an AttributeError\n"
   ]
  },
  {
   "cell_type": "code",
   "execution_count": 3,
   "id": "b2a673a8",
   "metadata": {},
   "outputs": [
    {
     "data": {
      "text/plain": [
       "85"
      ]
     },
     "execution_count": 3,
     "metadata": {},
     "output_type": "execute_result"
    }
   ],
   "source": [
    "class student:\n",
    "    def __init__(self,name, marks):\n",
    "        self.name = name\n",
    "        self.__marks = marks\n",
    "    def get_marks(self):\n",
    "        return self.__marks     \n",
    "    \n",
    "    def set_marks(self, marks):\n",
    "        if 0<= marks <= 100:\n",
    "            self.__marks = marks\n",
    "        else:\n",
    "            print(\"Invalid marks\")\n",
    "\n",
    "s = student(\"Akshat\", 85)\n",
    "#name mangling\n",
    "s._student__marks "
   ]
  },
  {
   "cell_type": "code",
   "execution_count": null,
   "id": "550f4439",
   "metadata": {},
   "outputs": [],
   "source": []
  }
 ],
 "metadata": {
  "kernelspec": {
   "display_name": "Python 3",
   "language": "python",
   "name": "python3"
  },
  "language_info": {
   "codemirror_mode": {
    "name": "ipython",
    "version": 3
   },
   "file_extension": ".py",
   "mimetype": "text/x-python",
   "name": "python",
   "nbconvert_exporter": "python",
   "pygments_lexer": "ipython3",
   "version": "3.11.9"
  }
 },
 "nbformat": 4,
 "nbformat_minor": 5
}
