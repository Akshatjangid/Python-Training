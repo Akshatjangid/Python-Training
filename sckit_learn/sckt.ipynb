{
 "cells": [
  {
   "cell_type": "markdown",
   "id": "e7be063a",
   "metadata": {},
   "source": [
    "# Scikit Learn"
   ]
  },
  {
   "cell_type": "markdown",
   "id": "ed043587",
   "metadata": {},
   "source": []
  }
 ],
 "metadata": {
  "language_info": {
   "name": "python"
  }
 },
 "nbformat": 4,
 "nbformat_minor": 5
}
