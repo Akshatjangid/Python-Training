{
 "cells": [
  {
   "cell_type": "code",
   "execution_count": 2,
   "id": "e6c87780",
   "metadata": {},
   "outputs": [],
   "source": [
    "#module -- importing other python files into current file \n",
    "#module is a single python file (.py)\n",
    "# there are 3 type of modules\n",
    "#1,built in modules -->os,datatime,re,math\n",
    "#2,third party modules--pandas,numpy\n",
    "#3,user defined modules"
   ]
  },
  {
   "cell_type": "code",
   "execution_count": 1,
   "id": "450b07f4",
   "metadata": {},
   "outputs": [],
   "source": [
    "# import os\n",
    "# from os import path \n",
    "# from functools import reduce "
   ]
  },
  {
   "cell_type": "code",
   "execution_count": 2,
   "id": "16cfed77",
   "metadata": {},
   "outputs": [],
   "source": [
    "from functools import reduce "
   ]
  },
  {
   "cell_type": "code",
   "execution_count": 3,
   "id": "24a84096",
   "metadata": {},
   "outputs": [],
   "source": [
    "from basic import addfun"
   ]
  },
  {
   "cell_type": "code",
   "execution_count": 4,
   "id": "c8a04575",
   "metadata": {},
   "outputs": [
    {
     "name": "stdout",
     "output_type": "stream",
     "text": [
      "5\n"
     ]
    }
   ],
   "source": [
    "print(addfun(2,3))"
   ]
  },
  {
   "cell_type": "code",
   "execution_count": null,
   "id": "a24c9f4e",
   "metadata": {},
   "outputs": [],
   "source": []
  }
 ],
 "metadata": {
  "kernelspec": {
   "display_name": "Python 3",
   "language": "python",
   "name": "python3"
  },
  "language_info": {
   "codemirror_mode": {
    "name": "ipython",
    "version": 3
   },
   "file_extension": ".py",
   "mimetype": "text/x-python",
   "name": "python",
   "nbconvert_exporter": "python",
   "pygments_lexer": "ipython3",
   "version": "3.11.9"
  }
 },
 "nbformat": 4,
 "nbformat_minor": 5
}
