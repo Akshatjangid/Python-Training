{
 "cells": [
  {
   "cell_type": "code",
   "execution_count": 1,
   "id": "c5321dc0",
   "metadata": {},
   "outputs": [],
   "source": [
    "## finction--> function is a block of code that only runs when it is called and it call for a specific purpose\n",
    "# type of function\n",
    "#user defined function\n",
    "# built in function\n"
   ]
  },
  {
   "cell_type": "code",
   "execution_count": 4,
   "id": "4ee77a4a",
   "metadata": {},
   "outputs": [
    {
     "name": "stdout",
     "output_type": "stream",
     "text": [
      "hello world\n"
     ]
    }
   ],
   "source": [
    "##user defined function\n",
    "def hello():\n",
    "    print(\"hello world\")\n",
    "hello()   # calling a function"
   ]
  },
  {
   "cell_type": "code",
   "execution_count": 7,
   "id": "0b49bf38",
   "metadata": {},
   "outputs": [
    {
     "name": "stdout",
     "output_type": "stream",
     "text": [
      "30\n"
     ]
    }
   ],
   "source": [
    "def add():\n",
    "    a=10\n",
    "    b=20\n",
    "    c=a+b\n",
    "    print(c)\n",
    "add()"
   ]
  },
  {
   "cell_type": "code",
   "execution_count": null,
   "id": "b875a8c0",
   "metadata": {},
   "outputs": [
    {
     "name": "stdout",
     "output_type": "stream",
     "text": [
      "300\n"
     ]
    }
   ],
   "source": [
    "#parameters is a variable in a function definition that receives a value when the function is called.\n",
    "# arguments is a value that is passed to a function when it is called.\n",
    "def add(a,b):\n",
    "    print(a+b)\n",
    "add(100,200)\n"
   ]
  },
  {
   "cell_type": "code",
   "execution_count": null,
   "id": "d75082b8",
   "metadata": {},
   "outputs": [
    {
     "name": "stdout",
     "output_type": "stream",
     "text": [
      "150\n"
     ]
    }
   ],
   "source": [
    "#arbuatry arguments--># *args is used to pass a variable number of non-keyword arguments to a function.\n",
    "# denoted by --> *args\n",
    "def add(*args):"
   ]
  },
  {
   "cell_type": "code",
   "execution_count": 6,
   "id": "eb45bd13",
   "metadata": {},
   "outputs": [
    {
     "name": "stdout",
     "output_type": "stream",
     "text": [
      "print the yoyngest child sohan\n"
     ]
    }
   ],
   "source": [
    "#keyword argument\n",
    "def child(child1,child2,child3):\n",
    "    print(\"print the yoyngest child\" , child3)\n",
    "child(child1=\"mohan\",child2=\"rohan\",child3=\"sohan\")"
   ]
  },
  {
   "cell_type": "code",
   "execution_count": 7,
   "id": "7dbbe7c4",
   "metadata": {},
   "outputs": [
    {
     "name": "stdout",
     "output_type": "stream",
     "text": [
      "the youngest child is mohan\n"
     ]
    }
   ],
   "source": [
    "#default parameter\n",
    "     #arbitary key word arguments -- **kwargs\n",
    "def child(**kids):\n",
    "    print(\"the youngest child is \" +kids[\"child3\"])\n",
    "\n",
    "child(child3=\"mohan\",child2=\"rohan\",child1=\"sohan\")"
   ]
  },
  {
   "cell_type": "code",
   "execution_count": 11,
   "id": "f847d0de",
   "metadata": {},
   "outputs": [
    {
     "name": "stdout",
     "output_type": "stream",
     "text": [
      "my hobby is cricket\n",
      "my hobby is coding\n"
     ]
    }
   ],
   "source": [
    "# default parameter value\n",
    "def hobby(name=\"coding\"):\n",
    "    print(\"my hobby is \"+name)\n",
    "hobby(\"cricket\")\n",
    "hobby()\n"
   ]
  },
  {
   "cell_type": "code",
   "execution_count": 12,
   "id": "511c4d1c",
   "metadata": {},
   "outputs": [
    {
     "name": "stdout",
     "output_type": "stream",
     "text": [
      "5.0\n"
     ]
    }
   ],
   "source": [
    "# avg function\n",
    "def avg(a,b):\n",
    "    print((a+b)/2)\n",
    "avg(5,5)\n"
   ]
  },
  {
   "cell_type": "code",
   "execution_count": 14,
   "id": "c1d8bfa1",
   "metadata": {},
   "outputs": [
    {
     "name": "stdout",
     "output_type": "stream",
     "text": [
      "6.5\n"
     ]
    }
   ],
   "source": [
    "# avg function\n",
    "def avg(a,b):\n",
    "    return (a+b)/2\n",
    "result=avg(5,8)\n",
    "print(result)\n"
   ]
  },
  {
   "cell_type": "code",
   "execution_count": null,
   "id": "c5336e61",
   "metadata": {},
   "outputs": [
    {
     "name": "stdout",
     "output_type": "stream",
     "text": [
      "6.0\n"
     ]
    }
   ],
   "source": [
    "#average\n",
    "def avgg(name):\n",
    "    print(sum(name)/len(name))\n",
    "avgg([5,6,7])"
   ]
  },
  {
   "cell_type": "code",
   "execution_count": 1,
   "id": "2f5966fa",
   "metadata": {},
   "outputs": [],
   "source": [
    "#lamda function--> small anonymous function\n",
    "##lamda arguments: expression\n"
   ]
  },
  {
   "cell_type": "code",
   "execution_count": 4,
   "id": "6514998f",
   "metadata": {},
   "outputs": [
    {
     "data": {
      "text/plain": [
       "15"
      ]
     },
     "execution_count": 4,
     "metadata": {},
     "output_type": "execute_result"
    }
   ],
   "source": [
    "x=lambda a: a+10\n",
    "x(5)"
   ]
  },
  {
   "cell_type": "code",
   "execution_count": 7,
   "id": "0c461301",
   "metadata": {},
   "outputs": [
    {
     "data": {
      "text/plain": [
       "11"
      ]
     },
     "execution_count": 7,
     "metadata": {},
     "output_type": "execute_result"
    }
   ],
   "source": [
    "x=lambda a,b: a+b\n",
    "x(5,6)"
   ]
  },
  {
   "cell_type": "code",
   "execution_count": null,
   "id": "55bf93a4",
   "metadata": {},
   "outputs": [
    {
     "name": "stdout",
     "output_type": "stream",
     "text": [
      "[1, 4, 9, 16, 25]\n"
     ]
    }
   ],
   "source": [
    "##map\n",
    "def square(num):\n",
    "    return num*num\n",
    "lst =[1,2,3,4,5]\n",
    "result=map(square,lst)\n",
    "print(list(result))        ##for typecasting we use list etc..."
   ]
  },
  {
   "cell_type": "code",
   "execution_count": null,
   "id": "aabe6b99",
   "metadata": {},
   "outputs": [
    {
     "name": "stdout",
     "output_type": "stream",
     "text": [
      "[2, 4]\n"
     ]
    }
   ],
   "source": [
    "##filter --> filter (function,iterable)\n",
    "lst=[1,2,3,4,5]\n",
    "result=filter(lambda num : num%2==0,lst)\n",
    "print(list(result))\n"
   ]
  },
  {
   "cell_type": "code",
   "execution_count": 8,
   "id": "b2f11256",
   "metadata": {},
   "outputs": [
    {
     "name": "stdout",
     "output_type": "stream",
     "text": [
      "15\n"
     ]
    }
   ],
   "source": [
    "## reduce\n",
    "from functools import reduce\n",
    "lst=[1,2,3,4,5]\n",
    "result=reduce(lambda num1,num2:num1+num2,lst)\n",
    "print(result)\n",
    "\n",
    "##from left to right\n",
    "#[3,3,4,5]-->[6,4,5]-->[10,5]-->[15]"
   ]
  },
  {
   "cell_type": "code",
   "execution_count": 16,
   "id": "b21cbe64",
   "metadata": {},
   "outputs": [
    {
     "name": "stdout",
     "output_type": "stream",
     "text": [
      "[(10, 'mohan'), (11, 'rohan'), (12, 'sohan')]\n"
     ]
    }
   ],
   "source": [
    "##enumerate function\n",
    "lst=[\"mohan\",\"rohan\",\"sohan\"]\n",
    "# result=enumerate(lst)\n",
    "result=enumerate(lst,start=10) #    #if we give starting point we use --> result=enumerate(lst,start=10)\n",
    "print(list(result))"
   ]
  },
  {
   "cell_type": "code",
   "execution_count": null,
   "id": "f752537e",
   "metadata": {},
   "outputs": [
    {
     "name": "stdout",
     "output_type": "stream",
     "text": [
      "[('mohan', 1), ('rohan', 2), ('sohan', 3)]\n"
     ]
    }
   ],
   "source": [
    "##zip function --> it is used to combine two more iterable\n",
    "lst1=[\"mohan\",\"rohan\",\"sohan\"]\n",
    "# lst2=[1,2,3]   \n",
    "lst2=[1,2]     # if we give only two values in lst2 it will combine only two data \n",
    "result=zip(lst1,lst2)\n",
    "print(list(result))"
   ]
  },
  {
   "cell_type": "code",
   "execution_count": 26,
   "id": "a3b773f2",
   "metadata": {},
   "outputs": [
    {
     "name": "stdout",
     "output_type": "stream",
     "text": [
      "['mohan', 'rohan', 'sohan']\n",
      "[1, 2, 3]\n"
     ]
    }
   ],
   "source": [
    "#unzip\n",
    "zipped=[('mohan', 1), ('rohan', 2), ('sohan', 3)]\n",
    "result,num=zip(*zipped)\n",
    "print(list(result))\n",
    "print(list(num))"
   ]
  },
  {
   "cell_type": "code",
   "execution_count": null,
   "id": "29dcb22e",
   "metadata": {},
   "outputs": [],
   "source": []
  }
 ],
 "metadata": {
  "kernelspec": {
   "display_name": "Python 3",
   "language": "python",
   "name": "python3"
  },
  "language_info": {
   "codemirror_mode": {
    "name": "ipython",
    "version": 3
   },
   "file_extension": ".py",
   "mimetype": "text/x-python",
   "name": "python",
   "nbconvert_exporter": "python",
   "pygments_lexer": "ipython3",
   "version": "3.11.9"
  }
 },
 "nbformat": 4,
 "nbformat_minor": 5
}
