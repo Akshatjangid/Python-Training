{
 "cells": [
  {
   "cell_type": "code",
   "execution_count": null,
   "id": "cfa49c11",
   "metadata": {},
   "outputs": [
    {
     "name": "stdout",
     "output_type": "stream",
     "text": [
      "h\n",
      "e\n",
      "l\n",
      "l\n",
      "o\n"
     ]
    }
   ],
   "source": [
    "# for and while loop\n",
    "#A for loop is used for iterating over a sequence (that is either a list, a tuple, a dictionary, a set, or a string).\n",
    "\n",
    "#string\n",
    "for i in \"hello\":\n",
    "    # print(i)\n",
    "    # print(i,end=\" \")        # for printing word horizontly\n"
   ]
  },
  {
   "cell_type": "code",
   "execution_count": 30,
   "id": "0709b599",
   "metadata": {},
   "outputs": [
    {
     "name": "stdout",
     "output_type": "stream",
     "text": [
      "name      hello\n",
      "age      20\n",
      "hobby      coding\n"
     ]
    }
   ],
   "source": [
    "dt={\n",
    "    \"name\":\"hello\",\n",
    "    \"age\":   20,\n",
    "    \"hobby\":\"coding\",\n",
    "}\n",
    "for i,j in dt.items():\n",
    "    print(i,\"    \",j)"
   ]
  },
  {
   "cell_type": "code",
   "execution_count": null,
   "id": "103e3c02",
   "metadata": {},
   "outputs": [
    {
     "name": "stdout",
     "output_type": "stream",
     "text": [
      "hello\n",
      "hello\n"
     ]
    }
   ],
   "source": [
    "for i in range(0,10,):\n",
    "    print(\"hello\")"
   ]
  },
  {
   "cell_type": "code",
   "execution_count": 41,
   "id": "695a4662",
   "metadata": {},
   "outputs": [
    {
     "name": "stdout",
     "output_type": "stream",
     "text": [
      "1 red\n",
      "----------\n",
      "1 green\n",
      "----------\n",
      "1 blue\n",
      "----------\n",
      "2 red\n",
      "----------\n",
      "2 green\n",
      "----------\n",
      "2 blue\n",
      "----------\n",
      "3 red\n",
      "----------\n",
      "3 green\n",
      "----------\n",
      "3 blue\n",
      "----------\n"
     ]
    }
   ],
   "source": [
    "#nested for loop\n",
    "lst1=[1,2,3]\n",
    "lst2=[\"red\",\"green\",\"blue\"]\n",
    "for i in lst1:\n",
    "    for j in lst2:\n",
    "        print(i,j)\n",
    "        print(\"----------\")"
   ]
  },
  {
   "cell_type": "code",
   "execution_count": null,
   "id": "f86719d9",
   "metadata": {},
   "outputs": [
    {
     "name": "stdout",
     "output_type": "stream",
     "text": [
      "1\n",
      "2\n",
      "3\n",
      "4\n",
      "6\n",
      "7\n",
      "8\n",
      "9\n"
     ]
    }
   ],
   "source": [
    "# braek and continue\n",
    "for i in range(1,10):\n",
    "    # if i==5:\n",
    "    #     break              # it will break the loop and stoped it\n",
    "    # print(i)\n",
    "    if i==5:\n",
    "        continue              # it will skip the particular no, and to be continoue....\n",
    "    print(i)\n"
   ]
  },
  {
   "cell_type": "code",
   "execution_count": null,
   "id": "1d3fd73b",
   "metadata": {},
   "outputs": [],
   "source": [
    "## pass keyword\n",
    "for i in range(1,20):\n",
    "    pass          ## it will use to run code without any error\n"
   ]
  },
  {
   "cell_type": "code",
   "execution_count": 56,
   "id": "737d1f20",
   "metadata": {},
   "outputs": [
    {
     "name": "stdout",
     "output_type": "stream",
     "text": [
      "[100, 400, 900, 1600]\n"
     ]
    }
   ],
   "source": [
    "## print sqr og the given list and print it in list..\n",
    "\n",
    "lst1=[10,20,30,40]\n",
    "lst2=[]\n",
    "for i in lst1:\n",
    "    lst2.append(i*i)\n",
    "print(lst2)"
   ]
  },
  {
   "cell_type": "code",
   "execution_count": null,
   "id": "64eceae9",
   "metadata": {},
   "outputs": [
    {
     "name": "stdout",
     "output_type": "stream",
     "text": [
      "1\n",
      "2\n",
      "3\n",
      "4\n",
      "5\n",
      "6\n",
      "7\n",
      "8\n",
      "9\n",
      "10\n"
     ]
    }
   ],
   "source": [
    "## while loop\n",
    "i=1\n",
    "while i<=10:\n",
    "    print(i)\n",
    "    i+=1"
   ]
  },
  {
   "cell_type": "code",
   "execution_count": 70,
   "id": "effc8934",
   "metadata": {},
   "outputs": [
    {
     "name": "stdout",
     "output_type": "stream",
     "text": [
      "10\n",
      "9\n",
      "8\n",
      "7\n",
      "6\n",
      "5\n",
      "4\n",
      "3\n",
      "2\n",
      "1\n"
     ]
    }
   ],
   "source": [
    "#reverse an loop\n",
    "i=10\n",
    "while i>=1:\n",
    "    \n",
    "    print(i)\n",
    "    i-=1\n",
    "    # if i==5:\n",
    "    #     break "
   ]
  },
  {
   "cell_type": "code",
   "execution_count": 75,
   "id": "02996336",
   "metadata": {},
   "outputs": [
    {
     "ename": "KeyboardInterrupt",
     "evalue": "",
     "output_type": "error",
     "traceback": [
      "\u001b[31m---------------------------------------------------------------------------\u001b[39m",
      "\u001b[31mKeyboardInterrupt\u001b[39m                         Traceback (most recent call last)",
      "\u001b[36mCell\u001b[39m\u001b[36m \u001b[39m\u001b[32mIn[75]\u001b[39m\u001b[32m, line 3\u001b[39m\n\u001b[32m      1\u001b[39m \u001b[38;5;66;03m# find sum of no. 1 to 10 using while loop\u001b[39;00m\n\u001b[32m      2\u001b[39m i=\u001b[32m10\u001b[39m\n\u001b[32m----> \u001b[39m\u001b[32m3\u001b[39m \u001b[38;5;28;01mwhile\u001b[39;00m i>=\u001b[32m1\u001b[39m:\n\u001b[32m      4\u001b[39m     i+=i\n\u001b[32m      5\u001b[39m \u001b[38;5;28mprint\u001b[39m(i)\n",
      "\u001b[31mKeyboardInterrupt\u001b[39m: "
     ]
    }
   ],
   "source": [
    "# find sum of no. 1 to 10 using while loop\n",
    "i=10\n",
    "while i>=1:\n",
    "    i+=i\n",
    "print(i)"
   ]
  },
  {
   "cell_type": "code",
   "execution_count": null,
   "id": "afcc73e2",
   "metadata": {},
   "outputs": [],
   "source": []
  }
 ],
 "metadata": {
  "kernelspec": {
   "display_name": "Python 3",
   "language": "python",
   "name": "python3"
  },
  "language_info": {
   "codemirror_mode": {
    "name": "ipython",
    "version": 3
   },
   "file_extension": ".py",
   "mimetype": "text/x-python",
   "name": "python",
   "nbconvert_exporter": "python",
   "pygments_lexer": "ipython3",
   "version": "3.11.9"
  }
 },
 "nbformat": 4,
 "nbformat_minor": 5
}
