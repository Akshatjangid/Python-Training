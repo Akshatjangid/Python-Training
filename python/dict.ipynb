{
 "cells": [
  {
   "cell_type": "code",
   "execution_count": 7,
   "id": "d76d208d",
   "metadata": {},
   "outputs": [
    {
     "name": "stdout",
     "output_type": "stream",
     "text": [
      "{'name': ['hello', 'world'], 'age': {'age1': 10, 'age2': 20}, 'hobby': 'coding'}\n",
      "<class 'dict'>\n"
     ]
    }
   ],
   "source": [
    "dt={\n",
    "    \"name\":[\"hello\",\"world\"],\n",
    "    \"age\":20,\n",
    "    \"hobby\":\"coding\",\n",
    "    \"age\":{\"age1\":10, \"age2\":20}\n",
    "}\n",
    "print(dt)\n",
    "print(type(dt))"
   ]
  },
  {
   "cell_type": "code",
   "execution_count": null,
   "id": "0a64d2cc",
   "metadata": {},
   "outputs": [
    {
     "data": {
      "text/plain": [
       "{'name': ['hello', 'world'], 'hobby': 'coding', 'age': 10}"
      ]
     },
     "execution_count": 31,
     "metadata": {},
     "output_type": "execute_result"
    }
   ],
   "source": [
    "dt={\n",
    "    \"name\":[\"hello\",\"world\"],\n",
    "    \"hobby\":\"coding\",\n",
    "    \"age\":10\n",
    "}\n",
    "# dt.items()\n",
    "# dt.keys()\n",
    "# dt.values()\n",
    "# dt.get(\"name\")\n",
    "# dt.pop(\"name\")\n",
    "# dt.popitem()\n",
    "# dt.update({\"name\":\"hello\",\"age\":30,\"hobby\":\"reading\"})\n",
    "# dt.copy()  # Returns a shallow copy of the dictionary\n",
    "dt={}.fromkeys"
   ]
  },
  {
   "cell_type": "code",
   "execution_count": null,
   "id": "8c30ceb7",
   "metadata": {},
   "outputs": [
    {
     "name": "stdout",
     "output_type": "stream",
     "text": [
      "{'h': 10, 'e': 10, 'l': 10, 'o': 10}\n"
     ]
    }
   ],
   "source": [
    "dt={\"a\":1}\n",
    "# value=dt.setdefault(\"b\",2)\n",
    "dt={}.fromkeys(\"hello\",10)  # Creates a new dictionary with keys from dt and all values set to 0\n",
    "print(dt)\n"
   ]
  },
  {
   "cell_type": "code",
   "execution_count": null,
   "id": "f90cee77",
   "metadata": {},
   "outputs": [],
   "source": [
    "dt."
   ]
  }
 ],
 "metadata": {
  "kernelspec": {
   "display_name": "Python 3",
   "language": "python",
   "name": "python3"
  },
  "language_info": {
   "codemirror_mode": {
    "name": "ipython",
    "version": 3
   },
   "file_extension": ".py",
   "mimetype": "text/x-python",
   "name": "python",
   "nbconvert_exporter": "python",
   "pygments_lexer": "ipython3",
   "version": "3.11.9"
  }
 },
 "nbformat": 4,
 "nbformat_minor": 5
}
