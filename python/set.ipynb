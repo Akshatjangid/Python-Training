{
 "cells": [
  {
   "cell_type": "code",
   "execution_count": null,
   "id": "3120a27b",
   "metadata": {},
   "outputs": [
    {
     "name": "stdout",
     "output_type": "stream",
     "text": [
      "{1, 2, 'hello'}\n",
      "<class 'set'>\n"
     ]
    }
   ],
   "source": [
    "##sets--> {}\n",
    "## sets--> unordered,immutable,noindexed\n",
    "## Set items are unchangeable, but you can remove items and add new items.\n",
    "\n",
    "st={1,2,\"hello\",True,\"hello\"}     ## here \"True\" is not come because set consider True=1 ,False=0\n",
    "print(st)\n",
    "print(type(st))"
   ]
  },
  {
   "cell_type": "code",
   "execution_count": null,
   "id": "ed8ec823",
   "metadata": {},
   "outputs": [],
   "source": [
    "st={5,2,\"hello\",True,\"hello\"}  \n",
    "# st.add(\"java\")\n",
    "# st.update([1,\"python\",\"Numpy\",\"Pandas\"])         ## Add multiple value in sets\n",
    "# st.remove(\"hello\")\n",
    "# st.pop()                                              #it will remove randomly values from sets\n",
    "# st.discard(9)\n",
    "st"
   ]
  },
  {
   "cell_type": "code",
   "execution_count": 36,
   "id": "d4b5f441",
   "metadata": {},
   "outputs": [
    {
     "name": "stdout",
     "output_type": "stream",
     "text": [
      "{1}\n"
     ]
    }
   ],
   "source": [
    "a={1,2,3,4,5}  \n",
    "b={1,6,7,8,9}\n",
    "# print(a.union(b))\n",
    "# print(a.intersection(b))\n",
    "# ##diffrence\n",
    "# print(a.difference(b))        ## in this we show remaining elemennts from a , same character we remove it \n",
    "# print(a.symmetric_difference(b))        ## in this we show remaining elemennts from all sets\n",
    "#                                          ## retrn the elements from either set but not both\n",
    "# print(a.difference(b)) \n",
    "##subset\n",
    "## in this we check is set b contain all elemt of set another\n",
    "# print(a.issubset(b))\n",
    "\n",
    "# print(a.issuperset(b))\n",
    "\n",
    "# print(a.isdisjoint(b))        ## its check that  if two sets have no common elements\n",
    "a.intersection_update(b)\n",
    "print(a)\n",
    "\n",
    "\n"
   ]
  },
  {
   "cell_type": "code",
   "execution_count": null,
   "id": "f76655bf",
   "metadata": {},
   "outputs": [
    {
     "name": "stdout",
     "output_type": "stream",
     "text": [
      "False\n"
     ]
    }
   ],
   "source": [
    "b={1,2,3,4,5}  \n",
    "a={1,2}\n",
    "# a.intersection_update(b)\n",
    "# print(a.isdisjoint(b))\n",
    "# print(a.issubset(b))\n",
    "# print(a.issuperset(b))\n",
    "a."
   ]
  },
  {
   "cell_type": "code",
   "execution_count": null,
   "id": "63f73a43",
   "metadata": {},
   "outputs": [],
   "source": []
  }
 ],
 "metadata": {
  "kernelspec": {
   "display_name": "Python 3",
   "language": "python",
   "name": "python3"
  },
  "language_info": {
   "codemirror_mode": {
    "name": "ipython",
    "version": 3
   },
   "file_extension": ".py",
   "mimetype": "text/x-python",
   "name": "python",
   "nbconvert_exporter": "python",
   "pygments_lexer": "ipython3",
   "version": "3.11.9"
  }
 },
 "nbformat": 4,
 "nbformat_minor": 5
}
