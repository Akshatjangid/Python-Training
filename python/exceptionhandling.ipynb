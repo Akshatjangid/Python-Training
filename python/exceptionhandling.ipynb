{
 "cells": [
  {
   "cell_type": "code",
   "execution_count": null,
   "id": "45788f8e",
   "metadata": {},
   "outputs": [],
   "source": [
    "## Error handling -->\n",
    "## type of block --> try,except,else,finally\n",
    "# try: is used to wrap the code that might raise an exception.\n",
    "## except: is used to handle the exception that might occur in the try block.\n",
    "# else: is executed if the try block does not raise an exception.\n",
    "## finally: is executed after the try and except blocks, regardless of whether an exception occurred or not.\n"
   ]
  },
  {
   "cell_type": "code",
   "execution_count": null,
   "id": "017f7e7c",
   "metadata": {},
   "outputs": [
    {
     "name": "stdout",
     "output_type": "stream",
     "text": [
      "division by zero\n",
      "finally block\n"
     ]
    }
   ],
   "source": [
    "try:\n",
    "    print(10/0)\n",
    "except:\n",
    "    print(\"zero division error\")\n",
    "else:\n",
    "    print(\"else block\")\n",
    "finally:"
   ]
  },
  {
   "cell_type": "code",
   "execution_count": 10,
   "id": "866700ac",
   "metadata": {},
   "outputs": [
    {
     "name": "stdout",
     "output_type": "stream",
     "text": [
      "name 'w' is not defined\n"
     ]
    }
   ],
   "source": [
    "try:\n",
    "    print(10/w)\n",
    "except Exception as e:\n",
    "    print(e)"
   ]
  },
  {
   "cell_type": "code",
   "execution_count": null,
   "id": "66e72b97",
   "metadata": {},
   "outputs": [],
   "source": [
    "try:\n",
    "    print(10/0)\n",
    "except Exception as e:\n",
    "    print(e)\n",
    "# else:\n",
    "#     print(\"else block\")                 #these to data type are not necessary\n",
    "# finally:\n",
    "#     print(\"finally block\")"
   ]
  },
  {
   "cell_type": "code",
   "execution_count": null,
   "id": "06f76455",
   "metadata": {},
   "outputs": [],
   "source": []
  }
 ],
 "metadata": {
  "kernelspec": {
   "display_name": "Python 3",
   "language": "python",
   "name": "python3"
  },
  "language_info": {
   "codemirror_mode": {
    "name": "ipython",
    "version": 3
   },
   "file_extension": ".py",
   "mimetype": "text/x-python",
   "name": "python",
   "nbconvert_exporter": "python",
   "pygments_lexer": "ipython3",
   "version": "3.11.9"
  }
 },
 "nbformat": 4,
 "nbformat_minor": 5
}
