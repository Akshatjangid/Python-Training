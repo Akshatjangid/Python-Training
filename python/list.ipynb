{
 "cells": [
  {
   "cell_type": "code",
   "execution_count": 5,
   "id": "ca1ac235",
   "metadata": {},
   "outputs": [
    {
     "name": "stdout",
     "output_type": "stream",
     "text": [
      "hello world\n"
     ]
    }
   ],
   "source": [
    "print(\"hello world\")"
   ]
  },
  {
   "cell_type": "code",
   "execution_count": 6,
   "id": "b0cc55f0",
   "metadata": {},
   "outputs": [],
   "source": [
    "##list-- ordered,mutable,allow duplication values,hesterogennous\n",
    "##list-- denoted by[]"
   ]
  },
  {
   "cell_type": "code",
   "execution_count": 14,
   "id": "b5f5b393",
   "metadata": {},
   "outputs": [
    {
     "name": "stdout",
     "output_type": "stream",
     "text": [
      "[1, 2, 'hello', True, 33.23, 'hello']\n",
      "<class 'list'>\n",
      "[1, 'hello', 33.23]\n",
      "1\n"
     ]
    }
   ],
   "source": [
    "lst=[1,2,\"hello\",True,33.23,\"hello\"]\n",
    "print(lst)\n",
    "print(type(lst))\n",
    "print(lst[0:6:2])\n",
    "print(lst[0])"
   ]
  },
  {
   "cell_type": "code",
   "execution_count": 23,
   "id": "ae467946",
   "metadata": {},
   "outputs": [
    {
     "name": "stdout",
     "output_type": "stream",
     "text": [
      "['red', 'python', 'green', 'java', 'yello']\n"
     ]
    }
   ],
   "source": [
    "# lst=[1,2,\"hello\",True,33.23,\"hello\"]\n",
    "lst = [\"red\",1,\"green\",2,\"yello\"]\n",
    "lst[1:4:2]=[\"python\",\"java\"]\n",
    "print(lst)"
   ]
  },
  {
   "cell_type": "code",
   "execution_count": 34,
   "id": "17c46c24",
   "metadata": {},
   "outputs": [
    {
     "name": "stdout",
     "output_type": "stream",
     "text": [
      "[10, 20, [30, 40, [50, [6000]], 70], 80]\n"
     ]
    }
   ],
   "source": [
    "#update 60to 6000\n",
    "lst=[10,20,[30,40,[50,60],70],80]\n",
    "lst[2][2][1]=[6000]\n",
    "print(lst)"
   ]
  },
  {
   "cell_type": "code",
   "execution_count": 42,
   "id": "3c37e160",
   "metadata": {},
   "outputs": [
    {
     "name": "stdout",
     "output_type": "stream",
     "text": [
      "2\n"
     ]
    },
    {
     "data": {
      "text/plain": [
       "['red', 'python', 'green', 'red', 'yellow']"
      ]
     },
     "execution_count": 42,
     "metadata": {},
     "output_type": "execute_result"
    }
   ],
   "source": [
    "lst=['red', 'python', 'green', 'red', 'yellow']\n",
    "print(lst.count(\"red\"))          ## if for multiple output we use print()\n",
    "lst.index(\"red\")\n",
    "lst2=lst.copy()\n",
    "lst2\n"
   ]
  },
  {
   "cell_type": "code",
   "execution_count": null,
   "id": "75e6ae63",
   "metadata": {},
   "outputs": [
    {
     "data": {
      "text/plain": [
       "['red', 'python', 'green', 'red', 'yellow', 'Emereald', 'Stealth Black']"
      ]
     },
     "execution_count": 53,
     "metadata": {},
     "output_type": "execute_result"
    }
   ],
   "source": [
    "#clear vs delete\n",
    "\n",
    "##clear\n",
    "lst=['red', 'python', 'green', 'red', 'yellow']\n",
    "# lst.clear()                       ## it will remove only elements from string but list is present in the memory\n",
    "# lst\n",
    "# del lst                           ## it will del wholw list\n",
    "# lst\n",
    "# lst.insert(2,'white')               ## to update particular index\n",
    "# lst\n",
    "# lst.append(\"Zedblack\")                ## to update last  index\n",
    "# lst.extend([\"Emereald\",\"Stealth Black\"])\n",
    "# lst                                   ## to update  multiplelast  index "
   ]
  },
  {
   "cell_type": "code",
   "execution_count": 58,
   "id": "9c85895d",
   "metadata": {},
   "outputs": [
    {
     "name": "stdout",
     "output_type": "stream",
     "text": [
      "5\n",
      "4\n"
     ]
    }
   ],
   "source": [
    "lst=['red', 'python', 'green', 'red', 'yellow']\n",
    "print(len(lst))\n",
    "lst.remove(\"yellow\")\n",
    "print(len(lst))"
   ]
  },
  {
   "cell_type": "code",
   "execution_count": 62,
   "id": "30196034",
   "metadata": {},
   "outputs": [
    {
     "name": "stdout",
     "output_type": "stream",
     "text": [
      "['red', 'python', 'green', 'red']\n"
     ]
    }
   ],
   "source": [
    "lst=['red', 'python', 'green', 'red', 'yellow']\n",
    "lst.pop() \n",
    "print(lst)                       # use to delete last elemant of list"
   ]
  },
  {
   "cell_type": "code",
   "execution_count": null,
   "id": "0e8e1c5b",
   "metadata": {},
   "outputs": [
    {
     "data": {
      "text/plain": [
       "['yellow', 'red', 'green', 'python', 'red']"
      ]
     },
     "execution_count": 65,
     "metadata": {},
     "output_type": "execute_result"
    }
   ],
   "source": [
    "lst=['red', 'python', 'green', 'red', 'yellow']\n",
    "lst.reverse()                 # it is use to reverse list\n",
    "lst"
   ]
  },
  {
   "cell_type": "code",
   "execution_count": null,
   "id": "21a92ac3",
   "metadata": {},
   "outputs": [
    {
     "data": {
      "text/plain": [
       "['green', 'python', 'red', 'red', 'yellow']"
      ]
     },
     "execution_count": 66,
     "metadata": {},
     "output_type": "execute_result"
    }
   ],
   "source": [
    "lst=['red', 'python', 'green', 'red', 'yellow']\n",
    "lst.sort()                                         # convert list into ascending order\n",
    "lst"
   ]
  },
  {
   "cell_type": "code",
   "execution_count": null,
   "id": "b65f741d",
   "metadata": {},
   "outputs": [
    {
     "data": {
      "text/plain": [
       "[5, 4, 3, 2, 1]"
      ]
     },
     "execution_count": 72,
     "metadata": {},
     "output_type": "execute_result"
    }
   ],
   "source": [
    "lst=[1,2,3,4,5]\n",
    "lst.sort(reverse=True)                         # convert list into decending order\n",
    "lst"
   ]
  },
  {
   "cell_type": "code",
   "execution_count": 95,
   "id": "dd60992e",
   "metadata": {},
   "outputs": [
    {
     "data": {
      "text/plain": [
       "[5, 4, 3, 2, 1]"
      ]
     },
     "execution_count": 95,
     "metadata": {},
     "output_type": "execute_result"
    }
   ],
   "source": [
    "lst=[1,2,3,4,5]\n",
    "lst[::-1]              ## reverse list using slicing\n"
   ]
  },
  {
   "cell_type": "code",
   "execution_count": null,
   "id": "6277411b",
   "metadata": {},
   "outputs": [],
   "source": []
  },
  {
   "cell_type": "code",
   "execution_count": null,
   "id": "e428703e",
   "metadata": {},
   "outputs": [],
   "source": []
  }
 ],
 "metadata": {
  "kernelspec": {
   "display_name": "Python 3",
   "language": "python",
   "name": "python3"
  },
  "language_info": {
   "codemirror_mode": {
    "name": "ipython",
    "version": 3
   },
   "file_extension": ".py",
   "mimetype": "text/x-python",
   "name": "python",
   "nbconvert_exporter": "python",
   "pygments_lexer": "ipython3",
   "version": "3.11.9"
  }
 },
 "nbformat": 4,
 "nbformat_minor": 5
}
