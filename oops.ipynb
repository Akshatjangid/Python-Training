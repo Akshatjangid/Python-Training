{
 "cells": [
  {
   "cell_type": "code",
   "execution_count": 1,
   "id": "7e268128",
   "metadata": {},
   "outputs": [],
   "source": [
    "## oops --> class , object , methods\n",
    "## type of oops \n",
    "#1. inheritence --> single,multiple,multilevel.herarichal,hybrid\n",
    "#2. polymorphism -->\n",
    "#3.Encapsulation -->\n",
    "#4.Abstraction -->"
   ]
  },
  {
   "cell_type": "code",
   "execution_count": 2,
   "id": "7927c525",
   "metadata": {},
   "outputs": [],
   "source": [
    "##class ..blueprint of object\n",
    "##object.. instance of class"
   ]
  },
  {
   "cell_type": "code",
   "execution_count": 5,
   "id": "450f2ff5",
   "metadata": {},
   "outputs": [
    {
     "data": {
      "text/plain": [
       "('abc', 'xyz')"
      ]
     },
     "execution_count": 5,
     "metadata": {},
     "output_type": "execute_result"
    }
   ],
   "source": [
    "class car:\n",
    "    num1=10\n",
    "    num2=10\n",
    "    name=\"abc\"\n",
    "    model=\"xyz\"\n",
    "    def add(self):\n",
    "        return self.num1 + self.num2\n",
    "    def display(self):\n",
    "        return self.name,self.model\n",
    "\n",
    "#obj-->\n",
    "obj =car()\n",
    "obj.display()\n",
    "# obj.add()"
   ]
  },
  {
   "cell_type": "code",
   "execution_count": 6,
   "id": "40c87f15",
   "metadata": {},
   "outputs": [
    {
     "data": {
      "text/plain": [
       "('lion', 10)"
      ]
     },
     "execution_count": 6,
     "metadata": {},
     "output_type": "execute_result"
    }
   ],
   "source": [
    "## init -->> constructor --> useto initialize the variable\n",
    "class animal:\n",
    "    def __init__(self,name,age):\n",
    "        self.name=name\n",
    "        self.age=age    \n",
    "    def display(self):\n",
    "        return self.name,self.age\n",
    "    \n",
    "obj=animal(\"lion\",10)\n",
    "obj.display()"
   ]
  },
  {
   "cell_type": "code",
   "execution_count": null,
   "id": "280d6a30",
   "metadata": {},
   "outputs": [],
   "source": []
  }
 ],
 "metadata": {
  "kernelspec": {
   "display_name": "Python 3",
   "language": "python",
   "name": "python3"
  },
  "language_info": {
   "codemirror_mode": {
    "name": "ipython",
    "version": 3
   },
   "file_extension": ".py",
   "mimetype": "text/x-python",
   "name": "python",
   "nbconvert_exporter": "python",
   "pygments_lexer": "ipython3",
   "version": "3.11.9"
  }
 },
 "nbformat": 4,
 "nbformat_minor": 5
}
